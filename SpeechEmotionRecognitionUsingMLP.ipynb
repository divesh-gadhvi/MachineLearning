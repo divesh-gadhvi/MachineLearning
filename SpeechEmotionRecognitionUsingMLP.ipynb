{
 "cells": [
  {
   "cell_type": "code",
   "execution_count": null,
   "id": "2d384c6b",
   "metadata": {},
   "outputs": [],
   "source": [
    "import librosa\n",
    "import librosa.display\n",
    "import soundfile\n",
    "import os, glob, pickle\n",
    "import numpy as np\n",
    "import pandas as pd\n",
    "import seaborn as sns\n",
    "import matplotlib.pyplot as plt\n",
    "\n",
    "from IPython.display import Audio\n",
    "from sklearn.model_selection import train_test_split\n",
    "from sklearn.neural_network import MLPClassifier\n",
    "from sklearn.metrics import accuracy_score\n",
    "\n",
    "import spotipy\n",
    "import spotipy.oauth2 as oauth2\n",
    "from spotipy.oauth2 import SpotifyOAuth\n",
    "from spotipy.oauth2 import SpotifyClientCredentials\n",
    "import pandas as pd\n",
    "import time\n"
   ]
  },
  {
   "cell_type": "code",
   "execution_count": null,
   "id": "489da4df",
   "metadata": {},
   "outputs": [],
   "source": [
    "#Load the data and extract features for each sound file\n",
    "def load_data(test_size):\n",
    "    x,y=[],[]\n",
    "    for file in glob.glob(\"C:\\\\speech-emotion-recognition-ravdess-data\\\\Actor_*\\\\*.wav\"):\n",
    "        file_name=os.path.basename(file)\n",
    "        emotion=emotions[file_name.split(\"-\")[2]]\n",
    "        if emotion not in observed_emotions:\n",
    "            continue\n",
    "        feature=extract_feature(file, mfcc=True, chroma=True, mel=True)\n",
    "        x.append(feature)\n",
    "        y.append(emotion)\n",
    "    return train_test_split(np.array(x), y, test_size=test_size, random_state=9)"
   ]
  },
  {
   "cell_type": "code",
   "execution_count": null,
   "id": "abeeb47c",
   "metadata": {},
   "outputs": [],
   "source": [
    "#Emotions in the RAVDESS dataset\n",
    "emotions={\n",
    "  '01':'neutral',\n",
    "  '02':'calm',\n",
    "  '03':'happy',\n",
    "  '04':'sad',\n",
    "  '05':'angry',\n",
    "  '06':'fearful',\n",
    "  '07':'disgust',\n",
    "  '08':'surprised'\n",
    "}\n",
    "\n",
    "#Emotions to observe\n",
    "observed_emotions=['disgust', 'happy', 'angry', 'sad', 'fearful', 'neutral', 'surprised']"
   ]
  },
  {
   "cell_type": "code",
   "execution_count": null,
   "id": "adcdfc37",
   "metadata": {},
   "outputs": [],
   "source": [
    "#Extract features (mfcc, chroma, mel) from a sound file\n",
    "def extract_feature(file_name, mfcc, chroma, mel):\n",
    "    with soundfile.SoundFile(file_name) as sound_file:\n",
    "        X = sound_file.read(dtype=\"float32\")\n",
    "        sample_rate=sound_file.samplerate\n",
    "        if chroma:\n",
    "            stft=np.abs(librosa.stft(X))\n",
    "            result=np.array([])\n",
    "        if mfcc:\n",
    "            mfccs=np.mean(librosa.feature.mfcc(y=X, sr=sample_rate, n_mfcc=40).T, axis=0)\n",
    "            result=np.hstack((result, mfccs))\n",
    "            #print(result)\n",
    "        if chroma:\n",
    "            chroma=np.mean(librosa.feature.chroma_stft(S=stft, sr=sample_rate).T,axis=0)\n",
    "            result=np.hstack((result, chroma))\n",
    "            #print(result)\n",
    "        if mel:\n",
    "            mel=np.mean(librosa.feature.melspectrogram(X, sr=sample_rate).T,axis=0)\n",
    "            result=np.hstack((result, mel))\n",
    "            #print(result)\n",
    "    return result\n",
    "        \n",
    "            \n"
   ]
  },
  {
   "cell_type": "code",
   "execution_count": null,
   "id": "f589487c",
   "metadata": {},
   "outputs": [],
   "source": [
    "#Split the dataset\n",
    "x_train,x_test,y_train,y_test=load_data(test_size=0.25)"
   ]
  },
  {
   "cell_type": "code",
   "execution_count": null,
   "id": "b9e5cf01",
   "metadata": {},
   "outputs": [],
   "source": [
    "#Get the shape of the training and testing datasets\n",
    "print((x_train.shape[0], x_test.shape[0]))"
   ]
  },
  {
   "cell_type": "code",
   "execution_count": null,
   "id": "63067867",
   "metadata": {},
   "outputs": [],
   "source": [
    "#Get the number of features extracted\n",
    "print(f'Features extracted: {x_train.shape[1]}')"
   ]
  },
  {
   "cell_type": "code",
   "execution_count": null,
   "id": "4016e3af",
   "metadata": {},
   "outputs": [],
   "source": [
    "#Initialize the Multi Layer Perceptron Classifier\n",
    "model=MLPClassifier(alpha=0.01, batch_size=256, epsilon=1e-08, hidden_layer_sizes=(300,), learning_rate='adaptive', max_iter=500)"
   ]
  },
  {
   "cell_type": "code",
   "execution_count": null,
   "id": "26d64fdb",
   "metadata": {},
   "outputs": [],
   "source": [
    "#Train the model\n",
    "model.fit(x_train,y_train)"
   ]
  },
  {
   "cell_type": "code",
   "execution_count": null,
   "id": "176b8c85",
   "metadata": {},
   "outputs": [],
   "source": [
    "#Predict for the test set\n",
    "y_pred=model.predict(x_test)"
   ]
  },
  {
   "cell_type": "code",
   "execution_count": null,
   "id": "9f9ecad8",
   "metadata": {},
   "outputs": [],
   "source": [
    "#Calculate the accuracy of our model\n",
    "accuracy=accuracy_score(y_true=y_test, y_pred=y_pred)\n",
    "\n",
    "#Print the accuracy\n",
    "print(\"Accuracy: {:.2f}%\".format(accuracy*100))"
   ]
  },
  {
   "cell_type": "markdown",
   "id": "13360aa3",
   "metadata": {},
   "source": [
    "# Data Visualisation and Exploration"
   ]
  },
  {
   "cell_type": "code",
   "execution_count": null,
   "id": "fd5cd357",
   "metadata": {},
   "outputs": [],
   "source": [
    "plt.title('Count of Emotions', size=16)\n",
    "sns.countplot(y_test)\n",
    "plt.ylabel('Count', size=12)\n",
    "plt.xlabel('Emotions', size=12)\n",
    "sns.despine(top=True, right=True, left=False, bottom=False)\n",
    "plt.show()"
   ]
  },
  {
   "cell_type": "code",
   "execution_count": null,
   "id": "0f2077f4",
   "metadata": {},
   "outputs": [],
   "source": [
    "plt.title('Count of Emotions', size=16)\n",
    "sns.countplot(y_pred)\n",
    "plt.ylabel('Count', size=12)\n",
    "plt.xlabel('Emotions', size=12)\n",
    "sns.despine(top=True, right=True, left=False, bottom=False)\n",
    "plt.show()"
   ]
  },
  {
   "cell_type": "code",
   "execution_count": null,
   "id": "a51c69e2",
   "metadata": {},
   "outputs": [],
   "source": [
    "def create_waveplot(data, sr, e):\n",
    "    plt.figure(figsize=(10, 3))\n",
    "    plt.title('Waveplot for audio with {} emotion'.format(e), size=15)\n",
    "    librosa.display.waveshow(data, sr=sr)\n",
    "    plt.show()\n",
    "    \n",
    "def create_spectrogram(data, sr, e):\n",
    "    # stft function converts the data into short term fourier transform\n",
    "    X = librosa.stft(data)\n",
    "    Xdb = librosa.amplitude_to_db(abs(X))\n",
    "    plt.figure(figsize=(12, 3))\n",
    "    plt.title('Spectrogram for audio with {} emotion'.format(e), size=15)\n",
    "    librosa.display.specshow(Xdb, sr=sr, x_axis='time', y_axis='hz')   \n",
    "    #librosa.display.specshow(Xdb, sr=sr, x_axis='time', y_axis='log')\n",
    "    plt.colorbar()    "
   ]
  },
  {
   "cell_type": "code",
   "execution_count": null,
   "id": "67974cb6",
   "metadata": {},
   "outputs": [],
   "source": [
    "emotion='angry'\n",
    "path = \"C:\\\\speech-emotion-recognition-ravdess-data\\\\Actor_01\\\\03-01-05-02-01-01-01.wav\"\n",
    "data, sampling_rate = librosa.load(path)\n",
    "create_waveplot(data, sampling_rate, emotion)\n",
    "create_spectrogram(data, sampling_rate, emotion)\n",
    "Audio(path)"
   ]
  },
  {
   "cell_type": "code",
   "execution_count": null,
   "id": "8002b78b",
   "metadata": {},
   "outputs": [],
   "source": [
    "emotion='sad'\n",
    "path = \"C:\\\\speech-emotion-recognition-ravdess-data\\\\Actor_01\\\\03-01-04-02-01-02-01.wav\"\n",
    "data, sampling_rate = librosa.load(path)\n",
    "create_waveplot(data, sampling_rate, emotion)\n",
    "create_spectrogram(data, sampling_rate, emotion)\n",
    "Audio(path)"
   ]
  },
  {
   "cell_type": "code",
   "execution_count": null,
   "id": "9fadf45e",
   "metadata": {},
   "outputs": [],
   "source": [
    "emotion='surprised'\n",
    "path = \"C:\\\\speech-emotion-recognition-ravdess-data\\\\Actor_01\\\\03-01-08-02-02-01-01.wav\"\n",
    "data, sampling_rate = librosa.load(path)\n",
    "create_waveplot(data, sampling_rate, emotion)\n",
    "create_spectrogram(data, sampling_rate, emotion)\n",
    "Audio(path)"
   ]
  },
  {
   "cell_type": "code",
   "execution_count": null,
   "id": "90c2af34",
   "metadata": {
    "scrolled": true
   },
   "outputs": [],
   "source": [
    "x1=[]\n",
    "for file1 in glob.glob(\"C:\\\\Recording\\\\*.wav\"):\n",
    "        feature1=extract_feature(file1, mfcc=True, chroma=True, mel=True)\n",
    "        x1.append(feature1)\n",
    "\n",
    "y_pred1=model.predict(x1)\n",
    "print(y_pred1)\n"
   ]
  },
  {
   "cell_type": "code",
   "execution_count": null,
   "id": "6553995c",
   "metadata": {},
   "outputs": [],
   "source": [
    "auth_manager = SpotifyClientCredentials('36b642c080694064ac9356a63d04f298','975cc82c0b7a4c8990d3722688b5585d')\n",
    "sp = spotipy.Spotify(auth_manager=auth_manager)\n",
    "\n",
    "def getTrackIDs(user, playlist_id):\n",
    "    track_ids = []\n",
    "    playlist = sp.user_playlist(user, playlist_id)\n",
    "    for item in playlist['tracks']['items']:\n",
    "        track = item['track']\n",
    "        track_ids.append(track['id'])\n",
    "    return track_ids\n",
    "\n",
    "def getTrackFeatures(id):\n",
    "    track_info = sp.track(id)\n",
    "\n",
    "    name = track_info['name']\n",
    "    album = track_info['album']['name']\n",
    "    artist = track_info['album']['artists'][0]['name']\n",
    "\n",
    "    track_data = [name, album, artist] \n",
    "    return track_data\n",
    "\n",
    "# Code for creating dataframe of feteched playlist\n",
    "\n",
    "emotion_dict = {'angry':0,'disgusted':1,'fearful':2,'happy':3,'neutral':4,'sad':5,'surprised':6}\n",
    "music_dist={0:\"6f9nZmbYGY8jnoR5QTrSz4\", #Calm Playlist\n",
    "            1:\"37i9dQZF1DX3rxVfibe1L0\", #Mood Booster\n",
    "            2:\"7kpASFjxLZhooMB726kkk1\", #Anti Anxiety Playlist\n",
    "            3:\"1QxdL1fPW4X4eex4CrFryW\", #Good Mood\n",
    "            4:\"37i9dQZEVXbMDoHDwVN2tF\", #Top 50\n",
    "            5:\"0deORnapZgrxFY4nsKr9JA\", #Good Music\n",
    "            6:\"37i9dQZF1DWTUfv2yzHEe7\"} #Filmy Party Songs \n",
    "\n",
    "\n",
    "#Below is the code snipet for adding the list of the playlist suggested in a CSV format. So the output would be a CSV file with the song names from the playlist.\n",
    "\n",
    "# track_ids = getTrackIDs('spotify',music_dist[0])\n",
    "# track_list = []\n",
    "# for i in range(len(track_ids)):\n",
    "#     time.sleep(.3)\n",
    "#     track_data = getTrackFeatures(track_ids[i])\n",
    "#     track_list.append(track_data)\n",
    "#     df = pd.DataFrame(track_list, columns = ['Name','Album','Artist']) \n",
    "#     df.to_csv('C:/Users/KP/Documents/songs/angry.csv')\n",
    "# print(\"CSV Generated\")\n",
    "\n",
    "# track_ids = getTrackIDs('spotify',music_dist[1])\n",
    "# track_list = []\n",
    "# for i in range(len(track_ids)):\n",
    "#     time.sleep(.3)\n",
    "#     track_data = getTrackFeatures(track_ids[i])\n",
    "#     track_list.append(track_data)\n",
    "#     df = pd.DataFrame(track_list, columns = ['Name','Album','Artist'])\n",
    "#     df.to_csv('C:/Users/KP/Documents/songs/disgusted.csv')\n",
    "# print(\"CSV Generated\")\n",
    "\n",
    "# track_ids = getTrackIDs('spotify',music_dist[2])\n",
    "# track_list = []\n",
    "# for i in range(len(track_ids)):\n",
    "#     time.sleep(.3)\n",
    "#     track_data = getTrackFeatures(track_ids[i])\n",
    "#     track_list.append(track_data)\n",
    "#     df = pd.DataFrame(track_list, columns = ['Name','Album','Artist']) \n",
    "#     df.to_csv('C:/Users/KP/Documents/songs/fearful.csv')\n",
    "# print(\"CSV Generated\")\n",
    "\n",
    "# track_ids = getTrackIDs('spotify',music_dist[3])\n",
    "# track_list = []\n",
    "# for i in range(len(track_ids)):\n",
    "#     time.sleep(.3)\n",
    "#     track_data = getTrackFeatures(track_ids[i])\n",
    "#     track_list.append(track_data)\n",
    "#     df = pd.DataFrame(track_list, columns = ['Name','Album','Artist'])\n",
    "#     df.to_csv('C:/Users/KP/Documents/songs/happy.csv')\n",
    "# print(\"CSV Generated\")\n",
    "\n",
    "# track_ids = getTrackIDs('spotify',music_dist[4])\n",
    "# track_list = []\n",
    "# for i in range(len(track_ids)):\n",
    "#     time.sleep(.3)\n",
    "#     track_data = getTrackFeatures(track_ids[i])\n",
    "#     track_list.append(track_data)\n",
    "#     df = pd.DataFrame(track_list, columns = ['Name','Album','Artist']) \n",
    "#     df.to_csv('C:/Users/KP/Documents/songs/neutral.csv')\n",
    "# print(\"CSV Generated\")\n",
    "\n",
    "# track_ids = getTrackIDs('spotify',music_dist[5])\n",
    "# track_list = []\n",
    "# for i in range(len(track_ids)):\n",
    "#     time.sleep(.3)\n",
    "#     track_data = getTrackFeatures(track_ids[i])\n",
    "#     track_list.append(track_data)\n",
    "#     df = pd.DataFrame(track_list, columns = ['Name','Album','Artist']) \n",
    "#     df.to_csv('C:/Users/KP/Documents/songs/sad.csv')\n",
    "# print(\"CSV Generated\")\n",
    "\n",
    "# track_ids = getTrackIDs('spotify',music_dist[6])\n",
    "# track_list = []\n",
    "# for i in range(len(track_ids)):\n",
    "#     time.sleep(.3)\n",
    "#     track_data = getTrackFeatures(track_ids[i])\n",
    "#     track_list.append(track_data)\n",
    "#     df = pd.DataFrame(track_list, columns = ['Name','Album','Artist']) \n",
    "#     df.to_csv('C:/Users/KP/Documents/songs/surprised.csv')\n",
    "# print(\"CSV Generated\")"
   ]
  },
  {
   "cell_type": "code",
   "execution_count": null,
   "id": "29088445",
   "metadata": {},
   "outputs": [],
   "source": [
    "emotion_value = emotion_dict[y_pred1[0]]\n",
    "playlist_id = music_dist[emotion_value]"
   ]
  },
  {
   "cell_type": "code",
   "execution_count": null,
   "id": "ccad6c79",
   "metadata": {},
   "outputs": [],
   "source": [
    "import webbrowser\n",
    "\n",
    "webbrowser.open('https://open.spotify.com/playlist/'+playlist_id) "
   ]
  }
 ],
 "metadata": {
  "kernelspec": {
   "display_name": "Python 3 (ipykernel)",
   "language": "python",
   "name": "python3"
  },
  "language_info": {
   "codemirror_mode": {
    "name": "ipython",
    "version": 3
   },
   "file_extension": ".py",
   "mimetype": "text/x-python",
   "name": "python",
   "nbconvert_exporter": "python",
   "pygments_lexer": "ipython3",
   "version": "3.9.13"
  }
 },
 "nbformat": 4,
 "nbformat_minor": 5
}
